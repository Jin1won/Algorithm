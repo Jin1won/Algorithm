{
  "nbformat": 4,
  "nbformat_minor": 0,
  "metadata": {
    "colab": {
      "provenance": [],
      "include_colab_link": true
    },
    "kernelspec": {
      "name": "python3",
      "display_name": "Python 3"
    },
    "language_info": {
      "name": "python"
    },
    "accelerator": "GPU",
    "gpuClass": "standard"
  },
  "cells": [
    {
      "cell_type": "markdown",
      "metadata": {
        "id": "view-in-github",
        "colab_type": "text"
      },
      "source": [
        "<a href=\"https://colab.research.google.com/github/Jin1won/Algorithm/blob/main/Jinwon_clothes_try.ipynb\" target=\"_parent\"><img src=\"https://colab.research.google.com/assets/colab-badge.svg\" alt=\"Open In Colab\"/></a>"
      ]
    },
    {
      "cell_type": "code",
      "source": [
        "from google.colab import drive\n",
        "drive.mount('/content/gdrive')\n",
        "\n",
        "import zipfile, os, shutil\n",
        "\n",
        "dataset = '/content/gdrive/My Drive/AI/AI 팀플/clothes.zip'\n",
        "dst_path = '/content/clothes_data'\n",
        "dst_file = os.path.join(dst_path, 'clothes.zip')"
      ],
      "metadata": {
        "colab": {
          "base_uri": "https://localhost:8080/"
        },
        "id": "zvcWtAuYsP2U",
        "outputId": "22d53f73-8dba-481e-cb5b-a9eab2be7828"
      },
      "execution_count": null,
      "outputs": [
        {
          "output_type": "stream",
          "name": "stdout",
          "text": [
            "Drive already mounted at /content/gdrive; to attempt to forcibly remount, call drive.mount(\"/content/gdrive\", force_remount=True).\n"
          ]
        }
      ]
    },
    {
      "cell_type": "code",
      "source": [
        "if not os.path.exists(dst_path):\n",
        "  os.makedirs(dst_path)\n",
        "\n",
        "# copy zip file\n",
        "shutil.copy(dataset, dst_file) # copy to colab instance storage\n",
        "  \n",
        "with zipfile.ZipFile(dst_file, 'r') as file:\n",
        "  file.extractall(dst_path)"
      ],
      "metadata": {
        "id": "o2rThWXp4wy8"
      },
      "execution_count": null,
      "outputs": []
    },
    {
      "cell_type": "code",
      "source": [
        "import cv2 as cv\n",
        "import re\n",
        "import numpy as np\n",
        "from matplotlib import pyplot as plt"
      ],
      "metadata": {
        "id": "B_PKMDE2Bv2o"
      },
      "execution_count": null,
      "outputs": []
    },
    {
      "cell_type": "code",
      "source": [
        "X = []\n",
        "Y = []\n",
        "\n",
        "total_len = 0\n",
        "input_shape = (96, 96, 3)\n",
        "\n",
        "subdir = os.listdir(dst_path)\n",
        "subdir.remove('clothes.zip')\n",
        "for folder in subdir:\n",
        "  for image in os.listdir(os.path.join(dst_path, folder)):\n",
        "    path_to_image = os.path.join(dst_path, folder, image)\n",
        "    image = cv.imread(path_to_image)\n",
        "    image = cv.cvtColor(image, cv.COLOR_BGR2RGB) # OpenCV uses BGR....\n",
        "    image = cv.resize(image, (input_shape[1], input_shape[0]))\n",
        "    label = re.findall(r'\\w+\\_\\w+', folder)[0].split('_') # [black, dress]\n",
        "    total_len +=1\n",
        "\n",
        "    X.append(image)\n",
        "    Y.append(label)\n",
        "\n",
        "# train_cats_dir = os.path.join(dst_path, 'subset/train/cats')\n",
        "# train_dogs_dir = os.path.join(dst_path, 'subset/train/dogs')\n",
        "\n",
        "\n",
        "# print('total training cat images:', len(os.listdir(train_cats_dir)))\n",
        "# print('total training dog images:', len(os.listdir(train_dogs_dir)))"
      ],
      "metadata": {
        "id": "YwnRQcPW2xyB"
      },
      "execution_count": null,
      "outputs": []
    },
    {
      "cell_type": "code",
      "source": [
        "print(total_len)\n",
        "print(len(X))\n",
        "print(len(Y))"
      ],
      "metadata": {
        "colab": {
          "base_uri": "https://localhost:8080/"
        },
        "id": "d5P3UDL2Ne6r",
        "outputId": "980f7a39-35d2-458c-f03f-431ce67781e7"
      },
      "execution_count": null,
      "outputs": [
        {
          "output_type": "stream",
          "name": "stdout",
          "text": [
            "11385\n",
            "11385\n",
            "11385\n"
          ]
        }
      ]
    },
    {
      "cell_type": "code",
      "source": [
        "# for check\n",
        "print(Y[1000])\n",
        "plt.figure(figsize=(5,5))\n",
        "plt.imshow(X[1000])"
      ],
      "metadata": {
        "id": "tc4aZS6t5-_5",
        "colab": {
          "base_uri": "https://localhost:8080/",
          "height": 357
        },
        "outputId": "ac865cac-1198-40a4-cc2d-06bc88e22bce"
      },
      "execution_count": null,
      "outputs": [
        {
          "output_type": "stream",
          "name": "stdout",
          "text": [
            "['black', 'shirt']\n"
          ]
        },
        {
          "output_type": "execute_result",
          "data": {
            "text/plain": [
              "<matplotlib.image.AxesImage at 0x7fab81cdfa90>"
            ]
          },
          "metadata": {},
          "execution_count": 6
        },
        {
          "output_type": "display_data",
          "data": {
            "text/plain": [
              "<Figure size 360x360 with 1 Axes>"
            ],
            "image/png": "[encoded data removed]"
          },
          "metadata": {
            "needs_background": "light"
          }
        }
      ]
    },
    {
      "cell_type": "code",
      "source": [
        "from sklearn.preprocessing import MultiLabelBinarizer"
      ],
      "metadata": {
        "id": "31gh0ONpIGPV"
      },
      "execution_count": null,
      "outputs": []
    },
    {
      "cell_type": "code",
      "source": [
        "# mlb = MultiLabelBinarizer()\n",
        "# Y = mlb.fit_transform(Y)\n",
        "# print(len(Y))\n",
        "\n",
        "# print(mlb.classes_)\n",
        "# print(Y[0]) # white shorts"
      ],
      "metadata": {
        "id": "3w4asgpZL7-k"
      },
      "execution_count": null,
      "outputs": []
    },
    {
      "cell_type": "code",
      "source": [
        "from sklearn.model_selection import train_test_split"
      ],
      "metadata": {
        "id": "fEuxvdqJMSFw"
      },
      "execution_count": null,
      "outputs": []
    },
    {
      "cell_type": "code",
      "source": [
        "X = np.array(X, dtype='float64') / 255.0\n",
        "Y = np.array(Y, dtype='object')\n",
        "\n",
        "x, test_x, y, test_y = train_test_split(X, Y, test_size=0.1, stratify=Y, shuffle = True, random_state=1)\n",
        "train_x, val_x, train_y, val_y = train_test_split(x, y, test_size=0.2, stratify=y, shuffle=True, random_state=1)\n",
        "\n",
        "print(x.shape, test_x.shape, y.shape, test_y.shape)\n",
        "print(train_x.shape, val_x.shape, train_y.shape, val_y.shape)"
      ],
      "metadata": {
        "colab": {
          "base_uri": "https://localhost:8080/"
        },
        "id": "YE2-QDTwMDr9",
        "outputId": "5a22f11f-67e0-48f0-be1d-ace97a6ea131"
      },
      "execution_count": null,
      "outputs": [
        {
          "output_type": "stream",
          "name": "stdout",
          "text": [
            "(10246, 96, 96, 3) (1139, 96, 96, 3) (10246, 2) (1139, 2)\n",
            "(8196, 96, 96, 3) (2050, 96, 96, 3) (8196, 2) (2050, 2)\n"
          ]
        }
      ]
    },
    {
      "cell_type": "code",
      "source": [
        "color_unique = np.unique(Y[:,0])\n",
        "type_unique = np.unique(Y[:,1])"
      ],
      "metadata": {
        "id": "f2IdduvDivWe"
      },
      "execution_count": null,
      "outputs": []
    },
    {
      "cell_type": "code",
      "source": [
        "from keras.models import Sequential\n",
        "from keras.layers import Conv2D, Dense, Flatten, MaxPooling2D\n",
        "from keras.layers import BatchNormalization, Activation, Dropout\n",
        "from keras.callbacks import ModelCheckpoint\n",
        "from keras.preprocessing.image import ImageDataGenerator"
      ],
      "metadata": {
        "id": "HcAa682UQHD3"
      },
      "execution_count": null,
      "outputs": []
    },
    {
      "cell_type": "code",
      "source": [
        "# augmentation\n",
        "datagen = ImageDataGenerator(rotation_range = 45,\n",
        "                            width_shift_range = 0.1,\n",
        "                            height_shift_range = 0.1,\n",
        "                            zoom_range = 0.2,\n",
        "                            horizontal_flip = True,\n",
        "                            validation_split = 0.2)"
      ],
      "metadata": {
        "id": "bvlPiViyQayY"
      },
      "execution_count": null,
      "outputs": []
    },
    {
      "cell_type": "code",
      "source": [
        "from tensorflow.keras import layers\n",
        "from tensorflow.keras import Input\n",
        "from tensorflow.keras.models import Model"
      ],
      "metadata": {
        "id": "kismD-oiVibJ"
      },
      "execution_count": null,
      "outputs": []
    },
    {
      "cell_type": "code",
      "source": [
        "tr_color_groups = train_y[:,0]\n",
        "tr_type_groups = train_y[:,1]\n",
        "\n",
        "val_color_groups = val_y[:,0]\n",
        "val_type_groups = val_y[:,1]"
      ],
      "metadata": {
        "id": "Tm5gF74IWLEv"
      },
      "execution_count": null,
      "outputs": []
    },
    {
      "cell_type": "code",
      "source": [
        "from sklearn.preprocessing import LabelBinarizer\n",
        "encoder = LabelBinarizer()\n",
        "tr_color_onehot = encoder.fit_transform(tr_color_groups)\n",
        "tr_type_onehot = encoder.fit_transform(tr_type_groups)\n",
        "\n",
        "val_color_onehot = encoder.fit_transform(val_color_groups)\n",
        "val_type_onehot = encoder.fit_transform(val_type_groups)"
      ],
      "metadata": {
        "id": "_iufEAF-X5oM"
      },
      "execution_count": null,
      "outputs": []
    },
    {
      "cell_type": "code",
      "source": [
        "# x = layers.Conv1D(32, 3, input_shape=input_shape, activation='relu')(image_input) \n",
        "# x = layers.MaxPooling1D(5)(x) \n",
        "# x = layers.Conv1D(64, 5, activation='relu', padding='same')(x) \n",
        "# x = layers.Conv1D(64, 5, activation='relu')(x) \n",
        "# x = layers.MaxPooling1D(5)(x) \n",
        "# x = layers.Conv1D(128, 5, activation='relu')(x) \n",
        "# x = layers.Conv1D(128, 5, activation='relu')(x) \n",
        "# x = layers.GlobalMaxPooling1D()(x)\n",
        "# x = layers.Dense(256, activation='relu')(x)\n",
        "\n",
        "#                         ┌─> Dense -> age_prediction        => MSE\n",
        "# posts_input -> ... -> X ├─> Dense -> income_prediction     => categorical_crossentropy loss\n",
        "#                         └─> Dense -> gender_prediction     => binary_crossentropy loss\n",
        "\n",
        "image_input = Input(shape=(input_shape), dtype='float64', name='image')\n",
        "x = layers.Conv2D(32, (3, 3), activation='relu', input_shape=input_shape)(image_input)\n",
        "x = layers.MaxPooling2D(2,2)(x)\n",
        "x = layers.Conv2D(64, (3, 3), activation='relu')(x)\n",
        "x = layers.MaxPooling2D(2,2)(x)\n",
        "x = layers.Conv2D(64, (3, 3), activation='relu')(x)\n",
        "x = layers.GlobalMaxPooling2D()(x)\n",
        "x = layers.Dense(128, activation='relu')(x)\n",
        "\n",
        "color_prediction = layers.Dense(len(color_unique), activation='softmax', name='color')(x)\n",
        "type_prediction = layers.Dense(len(type_unique), activation='softmax', name='type')(x)\n",
        "\n",
        "model = Model(image_input,\n",
        "              [color_prediction, type_prediction])"
      ],
      "metadata": {
        "id": "EtRfFsxfUUhq"
      },
      "execution_count": null,
      "outputs": []
    },
    {
      "cell_type": "code",
      "source": [
        "model.summary()"
      ],
      "metadata": {
        "colab": {
          "base_uri": "https://localhost:8080/"
        },
        "id": "4G7gPMgjXxqi",
        "outputId": "1526ee5a-104a-420b-f8ff-8ecc14ec3831"
      },
      "execution_count": null,
      "outputs": [
        {
          "output_type": "stream",
          "name": "stdout",
          "text": [
            "Model: \"model\"\n",
            "__________________________________________________________________________________________________\n",
            " Layer (type)                   Output Shape         Param #     Connected to                     \n",
            "==================================================================================================\n",
            " image (InputLayer)             [(None, 96, 96, 3)]  0           []                               \n",
            "                                                                                                  \n",
            " conv2d_3 (Conv2D)              (None, 94, 94, 32)   896         ['image[0][0]']                  \n",
            "                                                                                                  \n",
            " max_pooling2d_2 (MaxPooling2D)  (None, 47, 47, 32)  0           ['conv2d_3[0][0]']               \n",
            "                                                                                                  \n",
            " conv2d_4 (Conv2D)              (None, 45, 45, 64)   18496       ['max_pooling2d_2[0][0]']        \n",
            "                                                                                                  \n",
            " max_pooling2d_3 (MaxPooling2D)  (None, 22, 22, 64)  0           ['conv2d_4[0][0]']               \n",
            "                                                                                                  \n",
            " conv2d_5 (Conv2D)              (None, 20, 20, 64)   36928       ['max_pooling2d_3[0][0]']        \n",
            "                                                                                                  \n",
            " global_max_pooling2d (GlobalMa  (None, 64)          0           ['conv2d_5[0][0]']               \n",
            " xPooling2D)                                                                                      \n",
            "                                                                                                  \n",
            " dense (Dense)                  (None, 128)          8320        ['global_max_pooling2d[0][0]']   \n",
            "                                                                                                  \n",
            " color (Dense)                  (None, 6)            774         ['dense[0][0]']                  \n",
            "                                                                                                  \n",
            " type (Dense)                   (None, 5)            645         ['dense[0][0]']                  \n",
            "                                                                                                  \n",
            "==================================================================================================\n",
            "Total params: 66,059\n",
            "Trainable params: 66,059\n",
            "Non-trainable params: 0\n",
            "__________________________________________________________________________________________________\n"
          ]
        }
      ]
    },
    {
      "cell_type": "code",
      "source": [
        "from tensorflow.keras.optimizers import Nadam"
      ],
      "metadata": {
        "id": "KpCi5hf2nSdo"
      },
      "execution_count": null,
      "outputs": []
    },
    {
      "cell_type": "code",
      "source": [
        "model.compile(optimizer='rmsprop', \n",
        "              loss={\n",
        "                  'color': 'categorical_crossentropy',\n",
        "                  'type': 'categorical_crossentropy'\n",
        "              },\n",
        "              metrics=['accuracy'])"
      ],
      "metadata": {
        "id": "NZmSCVNPhnQq"
      },
      "execution_count": null,
      "outputs": []
    },
    {
      "cell_type": "code",
      "source": [
        "model.fit(x=train_x, \n",
        "          y={'color': tr_color_onehot, 'type': tr_type_onehot}, \n",
        "          epochs=10, \n",
        "          batch_size=16,\n",
        "          validation_data=(val_x, {'color': val_color_onehot, 'type': val_type_onehot})) "
      ],
      "metadata": {
        "colab": {
          "base_uri": "https://localhost:8080/"
        },
        "id": "zIvyg-nViE-N",
        "outputId": "0f2888e7-527a-4f05-aba4-3df760e2a785"
      },
      "execution_count": null,
      "outputs": [
        {
          "output_type": "stream",
          "name": "stdout",
          "text": [
            "Epoch 1/10\n",
            "513/513 [==============================] - 17s 13ms/step - loss: 1.6793 - color_loss: 0.6561 - type_loss: 1.0232 - color_accuracy: 0.7737 - type_accuracy: 0.5982 - val_loss: 1.2405 - val_color_loss: 0.3774 - val_type_loss: 0.8631 - val_color_accuracy: 0.8654 - val_type_accuracy: 0.6561\n",
            "Epoch 2/10\n",
            "513/513 [==============================] - 5s 9ms/step - loss: 0.9996 - color_loss: 0.3255 - type_loss: 0.6741 - color_accuracy: 0.8919 - type_accuracy: 0.7529 - val_loss: 1.2030 - val_color_loss: 0.5168 - val_type_loss: 0.6863 - val_color_accuracy: 0.8083 - val_type_accuracy: 0.7502\n",
            "Epoch 3/10\n",
            "513/513 [==============================] - 5s 9ms/step - loss: 0.7933 - color_loss: 0.2572 - type_loss: 0.5361 - color_accuracy: 0.9181 - type_accuracy: 0.8023 - val_loss: 0.9955 - val_color_loss: 0.4912 - val_type_loss: 0.5044 - val_color_accuracy: 0.8249 - val_type_accuracy: 0.8122\n",
            "Epoch 4/10\n",
            "513/513 [==============================] - 5s 9ms/step - loss: 0.6715 - color_loss: 0.2245 - type_loss: 0.4471 - color_accuracy: 0.9240 - type_accuracy: 0.8450 - val_loss: 0.7074 - val_color_loss: 0.2404 - val_type_loss: 0.4669 - val_color_accuracy: 0.9254 - val_type_accuracy: 0.8371\n",
            "Epoch 5/10\n",
            "513/513 [==============================] - 5s 9ms/step - loss: 0.5818 - color_loss: 0.1972 - type_loss: 0.3846 - color_accuracy: 0.9374 - type_accuracy: 0.8640 - val_loss: 1.0187 - val_color_loss: 0.3742 - val_type_loss: 0.6445 - val_color_accuracy: 0.8805 - val_type_accuracy: 0.7673\n",
            "Epoch 6/10\n",
            "513/513 [==============================] - 5s 9ms/step - loss: 0.5289 - color_loss: 0.1805 - type_loss: 0.3483 - color_accuracy: 0.9411 - type_accuracy: 0.8810 - val_loss: 0.7812 - val_color_loss: 0.3478 - val_type_loss: 0.4334 - val_color_accuracy: 0.8878 - val_type_accuracy: 0.8449\n",
            "Epoch 7/10\n",
            "513/513 [==============================] - 5s 9ms/step - loss: 0.4712 - color_loss: 0.1573 - type_loss: 0.3139 - color_accuracy: 0.9491 - type_accuracy: 0.8929 - val_loss: 0.5566 - val_color_loss: 0.1915 - val_type_loss: 0.3651 - val_color_accuracy: 0.9463 - val_type_accuracy: 0.8776\n",
            "Epoch 8/10\n",
            "513/513 [==============================] - 5s 9ms/step - loss: 0.4251 - color_loss: 0.1446 - type_loss: 0.2805 - color_accuracy: 0.9536 - type_accuracy: 0.9037 - val_loss: 0.6345 - val_color_loss: 0.1778 - val_type_loss: 0.4568 - val_color_accuracy: 0.9517 - val_type_accuracy: 0.8449\n",
            "Epoch 9/10\n",
            "513/513 [==============================] - 5s 10ms/step - loss: 0.3908 - color_loss: 0.1315 - type_loss: 0.2593 - color_accuracy: 0.9571 - type_accuracy: 0.9135 - val_loss: 0.5243 - val_color_loss: 0.1827 - val_type_loss: 0.3416 - val_color_accuracy: 0.9380 - val_type_accuracy: 0.8800\n",
            "Epoch 10/10\n",
            "513/513 [==============================] - 5s 9ms/step - loss: 0.3538 - color_loss: 0.1163 - type_loss: 0.2375 - color_accuracy: 0.9630 - type_accuracy: 0.9201 - val_loss: 0.7785 - val_color_loss: 0.2261 - val_type_loss: 0.5524 - val_color_accuracy: 0.9312 - val_type_accuracy: 0.8371\n"
          ]
        },
        {
          "output_type": "execute_result",
          "data": {
            "text/plain": [
              "<keras.callbacks.History at 0x7fa9e1195290>"
            ]
          },
          "metadata": {},
          "execution_count": 26
        }
      ]
    },
    {
      "cell_type": "code",
      "source": [],
      "metadata": {
        "id": "-1H-Ef0pjbaF"
      },
      "execution_count": null,
      "outputs": []
    }
  ]
}